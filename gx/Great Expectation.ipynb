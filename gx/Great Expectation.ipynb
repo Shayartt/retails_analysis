{
 "cells": [
  {
   "cell_type": "markdown",
   "metadata": {
    "application/vnd.databricks.v1+cell": {
     "cellMetadata": {
      "byteLimit": 2048000,
      "rowLimit": 10000
     },
     "inputWidgets": {},
     "nuid": "cf7ef7a9-aeb1-43a3-8afd-a567f7f46bd8",
     "showTitle": false,
     "title": ""
    }
   },
   "source": [
    "# Imports"
   ]
  },
  {
   "cell_type": "code",
   "execution_count": 0,
   "metadata": {
    "application/vnd.databricks.v1+cell": {
     "cellMetadata": {
      "byteLimit": 2048000,
      "rowLimit": 10000
     },
     "inputWidgets": {},
     "nuid": "1a0448a9-4eb8-4755-8d94-10fe8487f4a1",
     "showTitle": false,
     "title": ""
    }
   },
   "outputs": [],
   "source": [
    "import great_expectations as gx\n",
    "from great_expectations.checkpoint import Checkpoint"
   ]
  },
  {
   "cell_type": "markdown",
   "metadata": {
    "application/vnd.databricks.v1+cell": {
     "cellMetadata": {
      "byteLimit": 2048000,
      "rowLimit": 10000
     },
     "inputWidgets": {},
     "nuid": "4bea8054-c4a4-4dbc-9477-5748bb765364",
     "showTitle": false,
     "title": ""
    }
   },
   "source": [
    "Configuration GX : "
   ]
  },
  {
   "cell_type": "code",
   "execution_count": 0,
   "metadata": {
    "application/vnd.databricks.v1+cell": {
     "cellMetadata": {
      "byteLimit": 2048000,
      "rowLimit": 10000
     },
     "inputWidgets": {},
     "nuid": "15d54fa5-49cc-4038-99b3-565526011dae",
     "showTitle": false,
     "title": ""
    }
   },
   "outputs": [
    {
     "output_type": "stream",
     "name": "stderr",
     "output_type": "stream",
     "text": [
      "WARNING:py.warnings:/local_disk0/.ephemeral_nfs/cluster_libraries/python/lib/python3.9/site-packages/great_expectations/data_context/data_context/serializable_data_context.py:225: UserWarning: Warning. An existing `great_expectations.yml` was found here: /dbfs/gx.\n    - No action was taken.\n  warnings.warn(message)\n\nWARNING:py.warnings:/local_disk0/.ephemeral_nfs/cluster_libraries/python/lib/python3.9/site-packages/great_expectations/data_context/data_context/serializable_data_context.py:233: UserWarning: Warning. An existing `config_variables.yml` was found here: /dbfs/gx/uncommitted.\n    - No action was taken.\n  warnings.warn(message)\n\nINFO:great_expectations.data_context.types.base:Created temporary directory '/tmp/tmpi_0lq63b' for ephemeral docs site\n"
     ]
    }
   ],
   "source": [
    "context_root_dir = \"/dbfs/great_expectations/\"\n",
    "context = gx.get_context(context_root_dir=context_root_dir)"
   ]
  },
  {
   "cell_type": "markdown",
   "metadata": {
    "application/vnd.databricks.v1+cell": {
     "cellMetadata": {
      "byteLimit": 2048000,
      "rowLimit": 10000
     },
     "inputWidgets": {},
     "nuid": "a56d51c8-fb76-40f9-9a8c-8f4a5a0dd5f4",
     "showTitle": false,
     "title": ""
    }
   },
   "source": [
    "We'll use in memory to load data from spark dataframe : "
   ]
  },
  {
   "cell_type": "code",
   "execution_count": 0,
   "metadata": {
    "application/vnd.databricks.v1+cell": {
     "cellMetadata": {
      "byteLimit": 2048000,
      "rowLimit": 10000
     },
     "inputWidgets": {},
     "nuid": "6e7d3a00-1672-4151-bfe1-e9cbe7582482",
     "showTitle": false,
     "title": ""
    }
   },
   "outputs": [],
   "source": [
    "dataframe_datasource = context.sources.add_or_update_spark(\n",
    "    name=\"my_spark_in_memory_datasource\",\n",
    ")"
   ]
  },
  {
   "cell_type": "markdown",
   "metadata": {
    "application/vnd.databricks.v1+cell": {
     "cellMetadata": {
      "byteLimit": 2048000,
      "rowLimit": 10000
     },
     "inputWidgets": {},
     "nuid": "03b140ce-1ee0-4cc1-9919-0e2b82e8a72b",
     "showTitle": false,
     "title": ""
    }
   },
   "source": [
    "### Reading the dataframe to validate using spark : "
   ]
  },
  {
   "cell_type": "code",
   "execution_count": 0,
   "metadata": {
    "application/vnd.databricks.v1+cell": {
     "cellMetadata": {
      "byteLimit": 2048000,
      "rowLimit": 10000
     },
     "inputWidgets": {},
     "nuid": "d2672814-384f-4830-8383-5936d4765f07",
     "showTitle": false,
     "title": ""
    }
   },
   "outputs": [],
   "source": [
    "dfBronze = spark.table(\"bronze_retails.sales\")"
   ]
  },
  {
   "cell_type": "markdown",
   "metadata": {
    "application/vnd.databricks.v1+cell": {
     "cellMetadata": {
      "byteLimit": 2048000,
      "rowLimit": 10000
     },
     "inputWidgets": {},
     "nuid": "1eacf5a7-52a4-4af3-955f-c7e705745b3d",
     "showTitle": false,
     "title": ""
    }
   },
   "source": [
    "#### Assigning to GX the dataframe loaded : "
   ]
  },
  {
   "cell_type": "code",
   "execution_count": 0,
   "metadata": {
    "application/vnd.databricks.v1+cell": {
     "cellMetadata": {
      "byteLimit": 2048000,
      "rowLimit": 10000
     },
     "inputWidgets": {},
     "nuid": "bae03da7-dc11-4b26-b9f4-0937768c89ae",
     "showTitle": false,
     "title": ""
    }
   },
   "outputs": [],
   "source": [
    "\n",
    "dataframe_asset = dataframe_datasource.add_dataframe_asset(\n",
    "    name=\"bronze_sales\",\n",
    "    dataframe=dfBronze,\n",
    ")"
   ]
  },
  {
   "cell_type": "code",
   "execution_count": 0,
   "metadata": {
    "application/vnd.databricks.v1+cell": {
     "cellMetadata": {
      "byteLimit": 2048000,
      "rowLimit": 10000
     },
     "inputWidgets": {},
     "nuid": "209276fe-3f72-438a-984d-7d45cead5aa8",
     "showTitle": false,
     "title": ""
    }
   },
   "outputs": [],
   "source": [
    "batch_request = dataframe_asset.build_batch_request()"
   ]
  },
  {
   "cell_type": "markdown",
   "metadata": {
    "application/vnd.databricks.v1+cell": {
     "cellMetadata": {
      "byteLimit": 2048000,
      "rowLimit": 10000
     },
     "inputWidgets": {},
     "nuid": "59c251e6-7205-4423-b739-6b407a9b8b12",
     "showTitle": false,
     "title": ""
    }
   },
   "source": [
    "### Data Validation : "
   ]
  },
  {
   "cell_type": "markdown",
   "metadata": {
    "application/vnd.databricks.v1+cell": {
     "cellMetadata": {
      "byteLimit": 2048000,
      "rowLimit": 10000
     },
     "inputWidgets": {},
     "nuid": "3701b91d-a448-4185-83e0-a1c25f2e937d",
     "showTitle": false,
     "title": ""
    }
   },
   "source": [
    "#### Create our validation suite: "
   ]
  },
  {
   "cell_type": "code",
   "execution_count": 0,
   "metadata": {
    "application/vnd.databricks.v1+cell": {
     "cellMetadata": {
      "byteLimit": 2048000,
      "rowLimit": 10000
     },
     "collapsed": true,
     "inputWidgets": {},
     "nuid": "32e7902f-305f-4aab-9064-2ca76a438624",
     "showTitle": false,
     "title": ""
    }
   },
   "outputs": [
    {
     "output_type": "display_data",
     "data": {
      "application/vnd.jupyter.widget-view+json": {
       "model_id": "fef40a042c8e4bc2b9fed9658eb77a75",
       "version_major": 2,
       "version_minor": 0
      },
      "text/plain": [
       "Calculating Metrics:   0%|          | 0/1 [00:00<?, ?it/s]"
      ]
     },
     "metadata": {},
     "output_type": "display_data"
    },
    {
     "output_type": "stream",
     "name": "stdout",
     "output_type": "stream",
     "text": [
      "    invoice_id branch       city customer_type  gender  \\\n0  750-67-8428      A     Yangon        Member  Female   \n1  226-31-3081      C  Naypyitaw        Normal  Female   \n2  631-41-3108      A     Yangon        Normal    Male   \n3  123-19-1176      A     Yangon        Member    Male   \n4  373-73-7910      A     Yangon        Normal    Male   \n\n             product_line unit_price quantity    tax_5     total       date  \\\n0       Health and beauty      74.69        7  26.1415  548.9715   1/5/2019   \n1  Electronic accessories      15.28        5     3.82     80.22   3/8/2019   \n2      Home and lifestyle      46.33        7  16.2155  340.5255   3/3/2019   \n3       Health and beauty      58.22        8   23.288   489.048  1/27/2019   \n4       Sports and travel      86.31        7  30.2085  634.3785   2/8/2019   \n\n    time      payment    cogs gross_margin_percentage gross_income rating  \n0  13:08      Ewallet  522.83             4.761904762      26.1415    9.1  \n1  10:29         Cash    76.4             4.761904762         3.82    9.6  \n2  13:23  Credit card  324.31             4.761904762      16.2155    7.4  \n3  20:33      Ewallet  465.76             4.761904762       23.288    8.4  \n4  10:37      Ewallet  604.17             4.761904762      30.2085    5.3  \n"
     ]
    }
   ],
   "source": [
    "expectation_suite_name = \"Simple_data_validation\"\n",
    "context.add_or_update_expectation_suite(expectation_suite_name=expectation_suite_name)\n",
    "validator = context.get_validator(\n",
    "    batch_request=batch_request,\n",
    "    expectation_suite_name=expectation_suite_name,\n",
    ")\n",
    "\n",
    "print(validator.head())"
   ]
  },
  {
   "cell_type": "markdown",
   "metadata": {
    "application/vnd.databricks.v1+cell": {
     "cellMetadata": {
      "byteLimit": 2048000,
      "rowLimit": 10000
     },
     "inputWidgets": {},
     "nuid": "39d50034-f864-450a-8a2e-2f24d53ca1c1",
     "showTitle": false,
     "title": ""
    }
   },
   "source": [
    "#### Specifying our checks : "
   ]
  },
  {
   "cell_type": "code",
   "execution_count": 0,
   "metadata": {
    "application/vnd.databricks.v1+cell": {
     "cellMetadata": {
      "byteLimit": 2048000,
      "rowLimit": 10000
     },
     "collapsed": true,
     "inputWidgets": {},
     "nuid": "1a7dc30d-0509-4338-ae5b-0c95647df672",
     "showTitle": false,
     "title": ""
    }
   },
   "outputs": [
    {
     "output_type": "stream",
     "name": "stderr",
     "output_type": "stream",
     "text": [
      "WARNING:py.warnings:/local_disk0/.ephemeral_nfs/cluster_libraries/python/lib/python3.9/site-packages/great_expectations/expectations/expectation.py:1518: UserWarning: `result_format` configured at the Validator-level will not be persisted. Please add the configuration to your Checkpoint config or checkpoint_run() method instead.\n  warnings.warn(\n\n"
     ]
    },
    {
     "output_type": "display_data",
     "data": {
      "application/vnd.jupyter.widget-view+json": {
       "model_id": "9502055d1dab4a76a38014ba1d9ab8d9",
       "version_major": 2,
       "version_minor": 0
      },
      "text/plain": [
       "Calculating Metrics:   0%|          | 0/8 [00:00<?, ?it/s]"
      ]
     },
     "metadata": {},
     "output_type": "display_data"
    },
    {
     "output_type": "display_data",
     "data": {
      "application/vnd.jupyter.widget-view+json": {
       "model_id": "37cea82a62df40f59e9c36588dbee896",
       "version_major": 2,
       "version_minor": 0
      },
      "text/plain": [
       "Calculating Metrics:   0%|          | 0/11 [00:00<?, ?it/s]"
      ]
     },
     "metadata": {},
     "output_type": "display_data"
    },
    {
     "output_type": "stream",
     "name": "stdout",
     "output_type": "stream",
     "text": [
      "Out[52]: {\n  \"success\": false,\n  \"expectation_config\": {\n    \"expectation_type\": \"expect_column_values_to_be_between\",\n    \"kwargs\": {\n      \"column\": \"rating\",\n      \"min_value\": 0,\n      \"max_value\": 7,\n      \"batch_id\": \"my_spark_in_memory_datasource-bronze_sales\"\n    },\n    \"meta\": {}\n  },\n  \"result\": {\n    \"element_count\": 1000,\n    \"unexpected_count\": 329,\n    \"unexpected_percent\": 32.9,\n    \"partial_unexpected_list\": [\n      \"9.1\",\n      \"9.6\",\n      \"8.4\",\n      \"8\",\n      \"8.2\",\n      \"8.6\",\n      \"9.9\",\n      \"8.5\",\n      \"9.6\",\n      \"9.5\",\n      \"8.4\",\n      \"8.1\",\n      \"9.5\",\n      \"8.5\",\n      \"8.2\",\n      \"9.3\",\n      \"10\",\n      \"10\",\n      \"8.6\",\n      \"9.9\"\n    ],\n    \"missing_count\": 0,\n    \"missing_percent\": 0.0,\n    \"unexpected_percent_total\": 32.9,\n    \"unexpected_percent_nonmissing\": 32.9\n  },\n  \"meta\": {},\n  \"exception_info\": {\n    \"raised_exception\": false,\n    \"exception_traceback\": null,\n    \"exception_message\": null\n  }\n}"
     ]
    }
   ],
   "source": [
    "validator.expect_column_values_to_not_be_null(column=\"invoice_id\")\n",
    "\n",
    "validator.expect_column_values_to_be_between(\n",
    "    column=\"rating\", min_value=0, max_value=7\n",
    "    )"
   ]
  },
  {
   "cell_type": "code",
   "execution_count": 0,
   "metadata": {
    "application/vnd.databricks.v1+cell": {
     "cellMetadata": {
      "byteLimit": 2048000,
      "rowLimit": 10000
     },
     "inputWidgets": {},
     "nuid": "168e86ee-f277-4ba9-bbcf-f8961d35acf7",
     "showTitle": false,
     "title": ""
    }
   },
   "outputs": [],
   "source": [
    "validator.save_expectation_suite(discard_failed_expectations=False)"
   ]
  },
  {
   "cell_type": "markdown",
   "metadata": {
    "application/vnd.databricks.v1+cell": {
     "cellMetadata": {
      "byteLimit": 2048000,
      "rowLimit": 10000
     },
     "inputWidgets": {},
     "nuid": "762f5929-83f1-4986-a387-a7d2b637833a",
     "showTitle": false,
     "title": ""
    }
   },
   "source": [
    "### Running Validation : "
   ]
  },
  {
   "cell_type": "markdown",
   "metadata": {
    "application/vnd.databricks.v1+cell": {
     "cellMetadata": {
      "byteLimit": 2048000,
      "rowLimit": 10000
     },
     "inputWidgets": {},
     "nuid": "e0f7c4f2-7b89-4af9-9226-7a1bfa8f3502",
     "showTitle": false,
     "title": ""
    }
   },
   "source": [
    "#### Creating Checkpoints : "
   ]
  },
  {
   "cell_type": "code",
   "execution_count": 0,
   "metadata": {
    "application/vnd.databricks.v1+cell": {
     "cellMetadata": {
      "byteLimit": 2048000,
      "rowLimit": 10000
     },
     "collapsed": true,
     "inputWidgets": {},
     "nuid": "2494b2ee-f061-498e-92c5-9bce5cd39f8d",
     "showTitle": false,
     "title": ""
    }
   },
   "outputs": [
    {
     "output_type": "stream",
     "name": "stdout",
     "output_type": "stream",
     "text": [
      "Out[54]: {\n  \"action_list\": [\n    {\n      \"name\": \"store_validation_result\",\n      \"action\": {\n        \"class_name\": \"StoreValidationResultAction\"\n      }\n    },\n    {\n      \"name\": \"update_data_docs\",\n      \"action\": {\n        \"class_name\": \"UpdateDataDocsAction\"\n      }\n    }\n  ],\n  \"batch_request\": {\n    \"datasource_name\": \"my_spark_in_memory_datasource\",\n    \"data_asset_name\": \"bronze_sales\",\n    \"options\": {}\n  },\n  \"class_name\": \"Checkpoint\",\n  \"config_version\": 1.0,\n  \"evaluation_parameters\": {},\n  \"expectation_suite_name\": \"Simple_data_validation\",\n  \"module_name\": \"great_expectations.checkpoint\",\n  \"name\": \"my_databricks_checkpoint\",\n  \"profilers\": [],\n  \"run_name_template\": \"%Y%m%d-%H%M%S-my-run-name-template\",\n  \"runtime_configuration\": {},\n  \"validations\": []\n}"
     ]
    }
   ],
   "source": [
    "my_checkpoint_name = \"my_databricks_checkpoint\"\n",
    "\n",
    "checkpoint = Checkpoint(\n",
    "    name=my_checkpoint_name,\n",
    "    run_name_template=\"%Y%m%d-%H%M%S-my-run-name-template\",\n",
    "    data_context=context,\n",
    "    batch_request=batch_request,\n",
    "    expectation_suite_name=expectation_suite_name,\n",
    "    action_list=[\n",
    "        {\n",
    "            \"name\": \"store_validation_result\",\n",
    "            \"action\": {\"class_name\": \"StoreValidationResultAction\"},\n",
    "        },\n",
    "        {\"name\": \"update_data_docs\", \"action\": {\"class_name\": \"UpdateDataDocsAction\"}},\n",
    "    ],\n",
    ")\n",
    "\n",
    "context.add_or_update_checkpoint(checkpoint=checkpoint)\n"
   ]
  },
  {
   "cell_type": "markdown",
   "metadata": {
    "application/vnd.databricks.v1+cell": {
     "cellMetadata": {
      "byteLimit": 2048000,
      "rowLimit": 10000
     },
     "inputWidgets": {},
     "nuid": "40c14630-dfcf-49c6-a51e-0b3c1dc26c39",
     "showTitle": false,
     "title": ""
    }
   },
   "source": [
    "#### Executing the checks :"
   ]
  },
  {
   "cell_type": "code",
   "execution_count": 0,
   "metadata": {
    "application/vnd.databricks.v1+cell": {
     "cellMetadata": {
      "byteLimit": 2048000,
      "rowLimit": 10000
     },
     "inputWidgets": {},
     "nuid": "5adbcc77-4ec9-4145-8440-cfd752969716",
     "showTitle": false,
     "title": ""
    }
   },
   "outputs": [
    {
     "output_type": "display_data",
     "data": {
      "application/vnd.jupyter.widget-view+json": {
       "model_id": "68b036f087194d8d9dd445b9e40da11d",
       "version_major": 2,
       "version_minor": 0
      },
      "text/plain": [
       "Calculating Metrics:   0%|          | 0/19 [00:00<?, ?it/s]"
      ]
     },
     "metadata": {},
     "output_type": "display_data"
    }
   ],
   "source": [
    "checkpoint_result = checkpoint.run()"
   ]
  },
  {
   "cell_type": "markdown",
   "metadata": {
    "application/vnd.databricks.v1+cell": {
     "cellMetadata": {
      "byteLimit": 2048000,
      "rowLimit": 10000
     },
     "inputWidgets": {},
     "nuid": "8f6d5921-f31a-420f-829d-a418d6622fd0",
     "showTitle": false,
     "title": ""
    }
   },
   "source": [
    "#### Building HTML doc in human readable format : "
   ]
  },
  {
   "cell_type": "code",
   "execution_count": 0,
   "metadata": {
    "application/vnd.databricks.v1+cell": {
     "cellMetadata": {
      "byteLimit": 2048000,
      "rowLimit": 10000
     },
     "inputWidgets": {},
     "nuid": "af1ef42b-6a05-4c73-bfbb-14b7cf561e93",
     "showTitle": false,
     "title": ""
    }
   },
   "outputs": [
    {
     "output_type": "stream",
     "name": "stdout",
     "output_type": "stream",
     "text": [
      "Out[56]: {'local_site': 'file:///tmp/tmpi_0lq63b/index.html'}"
     ]
    }
   ],
   "source": [
    "context.build_data_docs()"
   ]
  }
 ],
 "metadata": {
  "application/vnd.databricks.v1+notebook": {
   "dashboards": [],
   "environmentMetadata": null,
   "language": "python",
   "notebookMetadata": {
    "pythonIndentUnit": 4
   },
   "notebookName": "Great Expectation",
   "widgets": {}
  }
 },
 "nbformat": 4,
 "nbformat_minor": 0
}
